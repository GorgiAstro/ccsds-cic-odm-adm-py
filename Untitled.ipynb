{
 "cells": [
  {
   "cell_type": "code",
   "execution_count": null,
   "metadata": {},
   "outputs": [],
   "source": [
    "from datetime import datetime\n",
    " \n",
    "class Oadm:\n",
    "    time_format = '%Y-%m-%dT%H:%M:%S.%f'\n",
    "    odm_type = ''\n",
    "\n",
    "    def __init__(self, originator, standard='CCSDS'):\n",
    "        \"\"\"\n",
    "\n",
    "        :param originator:\n",
    "        :param object_name:\n",
    "        :param object_id:\n",
    "        :param sat_properties: dict containing at least:\n",
    "            - mass: float, kg\n",
    "            - solar_rad_area: float, area for radiation pressure in m2\n",
    "            - solar_rad_coeff: float, radiation pressure coefficient\n",
    "            - drag_area: float, area for drag in m2\n",
    "            - drag_coeff: float, drag coefficient\n",
    "        \"\"\"\n",
    "        self.originator = originator\n",
    "        self.standard = standard\n",
    "    \n",
    "    def format_time_string(self, date):\n",
    "        return date.strftime(self.time_format)[:-3]\n",
    "    \n",
    "    def format_time_vector(self, df):      \n",
    "        if self.standard == 'CCSDS':\n",
    "            if 'datetime' not in df:\n",
    "                print('Not good')  # TODO: raise exception\n",
    "            return df['datetime'].apply(lambda x: self.format_time_string(x))\n",
    "        elif self.standard == 'CIC':\n",
    "            if 'MJD' not in df:\n",
    "                print('Not good')  # TODO: raise exception\n",
    "            return df['MJD'].apply(lambda x: f'{int(x)} {int(86400*(x - int(x)))}')  \n",
    "    \n",
    "    def format_header(self, comments=[]):\n",
    "        yield f'{self.standard}_{self.odm_type}_VERS = 2.0'\n",
    "        for comment in comments:\n",
    "            yield f'COMMENT {comment}'\n",
    "        yield f'CREATION_DATE = {self.format_time_string(datetime.utcnow())}'\n",
    "        yield f'ORIGINATOR = {self.originator}'\n",
    "        yield ''\n",
    "    \n",
    "    def write_file(self, segments, filename, comments=[]):        \n",
    "        with open(filename, 'w') as file:\n",
    "            file.writelines('\\n'.join(self.format_header(comments)))\n",
    "            file.writelines('\\n'.join(segments))\n",
    "            file.writelines('\\n')\n",
    "        \n",
    "            \n",
    "class Aem(Oadm):\n",
    "    odm_type = 'AEM'\n",
    "    \n",
    "    meta_mandat_keys = {\n",
    "        'OBJECT_NAME',\n",
    "        'OBJECT_ID',\n",
    "        'REF_FRAME_A',\n",
    "        'REF_FRAME_B',\n",
    "        'ATTITUDE_DIR',\n",
    "        'TIME_SYSTEM',\n",
    "        'ATTITUDE_TYPE',\n",
    "    }\n",
    "    meta_opt_allowed = {\n",
    "        'CENTER_NAME',\n",
    "        'USEABLE_START_TIME',\n",
    "        'USEABLE_STOP_TIME',\n",
    "        'QUATERNION_TYPE',\n",
    "        'EULER_ROT_SEQ',\n",
    "        'RATE_FRAME',\n",
    "        'INTERPOLATION_METHOD',\n",
    "        'INTERPOLATION_DEGREE'\n",
    "    }\n",
    "    \n",
    "    @staticmethod\n",
    "    def sample_meta_mandat():\n",
    "        meta_mandat = {\n",
    "        'OBJECT_NAME': 'MARS GLOBAL SURVEYOR',\n",
    "        'OBJECT_ID': '1996-062A',\n",
    "        'REF_FRAME_A': 'EME2000',\n",
    "        'REF_FRAME_B': 'SC_BODY_1',\n",
    "        'ATTITUDE_DIR': 'A2B',\n",
    "        'TIME_SYSTEM': 'UTC',\n",
    "        'ATTITUDE_TYPE': 'QUATERNION',\n",
    "        }\n",
    "        return meta_mandat\n",
    "    \n",
    "    @staticmethod\n",
    "    def sample_meta_opt():        \n",
    "        meta_opt = {\n",
    "            'CENTER_NAME': 'mars barycenter',\n",
    "            'USEABLE_START_TIME': datetime(1996, 11, 28, 22, 8, 2, 555500),\n",
    "            'USEABLE_STOP_TIME': datetime(1996, 11, 30, 1, 18, 2, 555500),\n",
    "            'QUATERNION_TYPE': 'LAST',\n",
    "            'INTERPOLATION_METHOD': 'hermite',\n",
    "            'INTERPOLATION_DEGREE': 7\n",
    "        }\n",
    "        return meta_opt\n",
    "    \n",
    "    def format_segment(self, df, meta_mandat, meta_opt={}, comments_meta=[], comments_data=[]):\n",
    "        yield ''\n",
    "        yield 'META_START'\n",
    "        \n",
    "        for comment in comments_meta:\n",
    "            yield f'COMMENT {comment}'\n",
    "        \n",
    "        yield f'OBJECT_NAME = {meta_mandat[\"OBJECT_NAME\"]}'\n",
    "        yield f'OBJECT_ID = {meta_mandat[\"OBJECT_ID\"]}'\n",
    "        if 'CENTER_NAME' in meta_opt:\n",
    "            yield f'CENTER_NAME = {meta_opt[\"CENTER_NAME\"]}'\n",
    "        yield f'REF_FRAME_A = {meta_mandat[\"REF_FRAME_A\"]}'\n",
    "        yield f'REF_FRAME_B = {meta_mandat[\"REF_FRAME_B\"]}'\n",
    "        yield f'ATTITUDE_DIR = {meta_mandat[\"ATTITUDE_DIR\"]}'\n",
    "        \n",
    "        yield f'TIME_SYSTEM = {meta_mandat[\"TIME_SYSTEM\"]}'            \n",
    "        if self.standard == 'CCSDS':\n",
    "            yield f'START_TIME = {self.format_time_string(df.iloc[0][\"datetime\"])}'\n",
    "            if 'USEABLE_START_TIME' in meta_opt:\n",
    "                yield f'USEABLE_START_TIME = {self.format_time_string(meta_opt[\"USEABLE_START_TIME\"])}'\n",
    "            if 'USEABLE_STOP_TIME' in meta_opt:\n",
    "                yield f'USEABLE_STOP_TIME = {self.format_time_string(meta_opt[\"USEABLE_STOP_TIME\"])}'            \n",
    "            yield f'STOP_TIME = {self.format_time_string(df.iloc[-1][\"datetime\"])}'\n",
    "            \n",
    "        yield f'ATTITUDE_TYPE = {meta_mandat[\"ATTITUDE_TYPE\"]}'\n",
    "        if 'QUATERNION_TYPE' in meta_opt:\n",
    "            yield f'QUATERNION_TYPE = {meta_opt[\"QUATERNION_TYPE\"]}'\n",
    "            \n",
    "        if 'INTERPOLATION' in meta_opt:\n",
    "            yield f'INTERPOLATION = {meta_opt[\"INTERPOLATION\"]}'\n",
    "        if 'INTERPOLATION_DEGREE' in meta_opt:\n",
    "            yield f'INTERPOLATION_DEGREE = {meta_opt[\"INTERPOLATION_DEGREE\"]}'     \n",
    "        \n",
    "        yield 'META_STOP'\n",
    "        \n",
    "        for comment in comments_data:\n",
    "            yield f'COMMENT {comment}'\n",
    "            \n",
    "        yield ''      \n",
    "        \n",
    "        df['format_time_string'] = self.format_time_vector(df)   \n",
    "        \n",
    "        for index, row in df.iterrows():\n",
    "            row_str = ''\n",
    "            row_str += f'{row[\"format_time_string\"]}'\n",
    "            if 'QUATERNION_TYPE' in meta_opt and meta_opt[\"QUATERNION_TYPE\"] == 'LAST':\n",
    "                row_str += f'  {row[\"qx\"]:.9f} {row[\"qy\"]:.9f} {row[\"qz\"]:.9f} {row[\"qs\"]:.9f}'\n",
    "            else:\n",
    "                row_str += f'  {row[\"qs\"]:.9f} {row[\"qx\"]:.9f} {row[\"qy\"]:.9f} {row[\"qz\"]:.9f}'\n",
    "            yield row_str  \n",
    "    \n",
    "            \n",
    "class Oem(Oadm):\n",
    "    odm_type = 'OEM'\n",
    "    \n",
    "    meta_mandat_keys = {\n",
    "        'OBJECT_NAME',\n",
    "        'OBJECT_ID',\n",
    "        'CENTER_NAME',\n",
    "        'REF_FRAME',\n",
    "        'TIME_SYSTEM'\n",
    "    }\n",
    "    meta_opt_allowed = {\n",
    "        'REF_FRAME_EPOCH',\n",
    "        'USEABLE_START_TIME',\n",
    "        'USEABLE_STOP_TIME',\n",
    "        'INTERPOLATION',\n",
    "        'INTERPOLATION_DEGREE',\n",
    "    }\n",
    "        \n",
    "    @staticmethod\n",
    "    def sample_meta_mandat():\n",
    "        meta_mandat = {\n",
    "            'OBJECT_NAME': 'STS 106',\n",
    "            'OBJECT_ID': '2000-053A',\n",
    "            'CENTER_NAME': 'EARTH',\n",
    "            'REF_FRAME': 'EME2000',\n",
    "            'TIME_SYSTEM': 'TAI'\n",
    "        }\n",
    "        return meta_mandat\n",
    "    \n",
    "    @staticmethod\n",
    "    def sample_meta_opt():        \n",
    "        meta_opt = {\n",
    "            'REF_FRAME_EPOCH': datetime(2000, 1, 1),\n",
    "            'USEABLE_START_TIME': datetime(1996, 12, 18, 12, 10, 0, 331000),\n",
    "            'USEABLE_STOP_TIME': datetime(1996, 12, 18, 21, 23, 0, 331000),\n",
    "            'INTERPOLATION': 'HERMITE',\n",
    "            'INTERPOLATION_DEGREE': 7,\n",
    "        }\n",
    "        return meta_opt\n",
    "            \n",
    "    def format_segment(self, df, meta_mandat, meta_opt={}, comments_meta=[], comments_data=[]):\n",
    "        yield ''\n",
    "        yield 'META_START'\n",
    "        \n",
    "        for comment in comments_meta:\n",
    "            yield f'COMMENT {comment}'\n",
    "        \n",
    "        yield f'OBJECT_NAME = {meta_mandat[\"OBJECT_NAME\"]}'\n",
    "        yield f'OBJECT_ID = {meta_mandat[\"OBJECT_ID\"]}'\n",
    "        yield f'CENTER_NAME = {meta_mandat[\"CENTER_NAME\"]}'\n",
    "        yield f'REF_FRAME = {meta_mandat[\"REF_FRAME\"]}'\n",
    "        \n",
    "        if 'REF_FRAME_EPOCH' in meta_opt:\n",
    "            yield f'REF_FRAME_EPOCH = {self.format_time_string(meta_opt[\"REF_FRAME_EPOCH\"])}'\n",
    "            \n",
    "        yield f'TIME_SYSTEM = {meta_mandat[\"TIME_SYSTEM\"]}'            \n",
    "        if self.standard == 'CCSDS':\n",
    "            yield f'START_TIME = {self.format_time_string(df.iloc[0][\"datetime\"])}'\n",
    "            if 'USEABLE_START_TIME' in meta_opt:\n",
    "                yield f'USEABLE_START_TIME = {self.format_time_string(meta_opt[\"USEABLE_START_TIME\"])}'\n",
    "            if 'USEABLE_STOP_TIME' in meta_opt:\n",
    "                yield f'USEABLE_STOP_TIME = {self.format_time_string(meta_opt[\"USEABLE_STOP_TIME\"])}'            \n",
    "            yield f'STOP_TIME = {self.format_time_string(df.iloc[-1][\"datetime\"])}'\n",
    "            \n",
    "        if 'INTERPOLATION' in meta_opt:\n",
    "            yield f'INTERPOLATION = {meta_opt[\"INTERPOLATION\"]}'\n",
    "        if 'INTERPOLATION_DEGREE' in meta_opt:\n",
    "            yield f'INTERPOLATION_DEGREE = {meta_opt[\"INTERPOLATION_DEGREE\"]}'     \n",
    "        \n",
    "        yield 'META_STOP'\n",
    "        \n",
    "        for comment in comments_data:\n",
    "            yield f'COMMENT {comment}'\n",
    "            \n",
    "        yield ''      \n",
    "        \n",
    "        df['format_time_string'] = self.format_time_vector(df)\n",
    "        \n",
    "        has_acceleration = 'ax' in df\n",
    "        \n",
    "        for index, row in df.iterrows():\n",
    "            row_str = ''\n",
    "            row_str += f'{row[\"format_time_string\"]}'\n",
    "            row_str += f'  {1e-3*row[\"x\"]:.6f} {1e-3*row[\"y\"]:.6f} {1e-3*row[\"z\"]:.6f}'\n",
    "            row_str += f'  {1e-3*row[\"vx\"]:.9f} {1e-3*row[\"vy\"]:.9f} {1e-3*row[\"vz\"]:.9f}'\n",
    "            if has_acceleration:\n",
    "                row_str += f'  {1e-3*row[\"ax\"]:.6f} {1e-3*row[\"ay\"]:.6f} {1e-3*row[\"az\"]:.6f}'    \n",
    "            yield row_str\n",
    "    "
   ]
  },
  {
   "cell_type": "code",
   "execution_count": null,
   "metadata": {},
   "outputs": [],
   "source": [
    "originator = 'CJ'"
   ]
  },
  {
   "cell_type": "markdown",
   "metadata": {},
   "source": [
    "# OEM"
   ]
  },
  {
   "cell_type": "markdown",
   "metadata": {},
   "source": [
    "## CCSDS"
   ]
  },
  {
   "cell_type": "code",
   "execution_count": null,
   "metadata": {},
   "outputs": [],
   "source": [
    "import pandas as pd\n",
    "df = pd.read_csv('sample_oem.txt', delimiter=' ', parse_dates=['datetime'])\n",
    "df['x'] = 1e3 * df['x']\n",
    "df['y'] = 1e3 * df['y']\n",
    "df['z'] = 1e3 * df['z']\n",
    "df['vx'] = 1e3 * df['vx']\n",
    "df['vy'] = 1e3 * df['vy']\n",
    "df['vz'] = 1e3 * df['vz']\n",
    "df['ax'] = 1e3 * df['ax']\n",
    "df['ay'] = 1e3 * df['ay']\n",
    "df['az'] = 1e3 * df['az']\n",
    "display(df)"
   ]
  },
  {
   "cell_type": "code",
   "execution_count": null,
   "metadata": {},
   "outputs": [],
   "source": [
    "meta_mandat_oem = Oem.sample_meta_mandat()\n",
    "display(meta_mandat_oem)"
   ]
  },
  {
   "cell_type": "code",
   "execution_count": null,
   "metadata": {},
   "outputs": [],
   "source": [
    "meta_opt_oem = Oem.sample_meta_opt()\n",
    "display(meta_opt_oem)"
   ]
  },
  {
   "cell_type": "code",
   "execution_count": null,
   "metadata": {},
   "outputs": [],
   "source": [
    "oem = Oem(originator)\n",
    "segments = []\n",
    "segments += oem.format_segment(df, meta_mandat_oem, meta_opt_oem, \n",
    "                      comments_meta=['Comment in metadata section'], comments_data=['Comment before data section'])\n",
    "segments += oem.format_segment(df, meta_mandat_oem)\n",
    "oem.write_file(segments, 'OEM_MABITE.txt', comments=['This is a file comment', 'It can also be multi-line'])"
   ]
  },
  {
   "cell_type": "markdown",
   "metadata": {},
   "source": [
    "## CIC"
   ]
  },
  {
   "cell_type": "code",
   "execution_count": null,
   "metadata": {},
   "outputs": [],
   "source": [
    "df_oem_cic = pd.read_csv('sample_oem_cic.txt', delimiter=' ')\n",
    "df_oem_cic['MJD'] = df_oem_cic['mjd_day'] + df_oem_cic['mjd_seconds'] / 86400\n",
    "df_oem_cic[['x', 'y', 'z', 'vx', 'vy', 'vz']] = 1e3*df_oem_cic[['x', 'y', 'z', 'vx', 'vy', 'vz']]\n",
    "display(df_oem_cic)"
   ]
  },
  {
   "cell_type": "code",
   "execution_count": null,
   "metadata": {},
   "outputs": [],
   "source": [
    "meta_mandat_oem_cic = {\n",
    "    'OBJECT_NAME': 'MARS',\n",
    "    'OBJECT_ID': 'MARS',\n",
    "    'CENTER_NAME': 'SUN',\n",
    "    'REF_FRAME': 'ICRF',\n",
    "    'TIME_SYSTEM': 'TAI'\n",
    "}"
   ]
  },
  {
   "cell_type": "code",
   "execution_count": null,
   "metadata": {},
   "outputs": [],
   "source": [
    "oem = Oem(originator, standard='CIC')\n",
    "segments = []\n",
    "segments += oem.format_segment(df_oem_cic, meta_mandat_oem_cic)\n",
    "oem.write_file(segments, 'Mars_OEM_EME2000.txt')"
   ]
  },
  {
   "cell_type": "markdown",
   "metadata": {},
   "source": [
    "# AEM"
   ]
  },
  {
   "cell_type": "markdown",
   "metadata": {},
   "source": [
    "## CCSDS"
   ]
  },
  {
   "cell_type": "code",
   "execution_count": null,
   "metadata": {},
   "outputs": [],
   "source": [
    "meta_mandat_aem = Aem.sample_meta_mandat()\n",
    "display(meta_mandat_aem)"
   ]
  },
  {
   "cell_type": "code",
   "execution_count": null,
   "metadata": {},
   "outputs": [],
   "source": [
    "meta_opt_aem = Aem.sample_meta_opt()\n",
    "display(meta_opt_aem)"
   ]
  },
  {
   "cell_type": "code",
   "execution_count": null,
   "metadata": {},
   "outputs": [],
   "source": [
    "df_aem = pd.read_csv('sample_aem.txt', delimiter=' ', parse_dates=['datetime'])\n",
    "display(df_aem)"
   ]
  },
  {
   "cell_type": "code",
   "execution_count": null,
   "metadata": {},
   "outputs": [],
   "source": [
    "aem = Aem(originator)\n",
    "segments = []\n",
    "segments += aem.format_segment(df_aem, meta_mandat_aem, meta_opt_aem, \n",
    "                      comments_meta=['Comment in metadata section'], comments_data=['Comment before data section'])\n",
    "segments += aem.format_segment(df_aem, meta_mandat_aem, \n",
    "                               comments_data=['Here, no QUATERNION_TYPE parameter was given, therefore quaternion is given in scalar-first'])\n",
    "aem.write_file(segments, 'AEM_MABITE.txt', comments=['This is a file comment', 'It can also be multi-line'])"
   ]
  },
  {
   "cell_type": "markdown",
   "metadata": {},
   "source": [
    "## CIC"
   ]
  },
  {
   "cell_type": "code",
   "execution_count": null,
   "metadata": {},
   "outputs": [],
   "source": [
    "meta_mandat_aem_cic = {\n",
    "    'OBJECT_NAME': 'MARS',\n",
    "    'OBJECT_ID': 'MARS',\n",
    "    'REF_FRAME_A': 'ICRF',\n",
    "    'REF_FRAME_B': 'BODY',\n",
    "    'ATTITUDE_DIR': 'A2B',\n",
    "    'TIME_SYSTEM': 'TAI',\n",
    "    'ATTITUDE_TYPE': 'QUATERNION'\n",
    "}\n",
    "meta_opt_aem_cic = {\n",
    "    'QUATERNION_TYPE': 'FIRST'\n",
    "}"
   ]
  },
  {
   "cell_type": "code",
   "execution_count": null,
   "metadata": {},
   "outputs": [],
   "source": [
    "df_aem_cic = pd.read_csv('sample_aem_cic.txt', delimiter=' ')\n",
    "df_aem_cic['MJD'] = df_aem_cic['mjd_day'] + df_aem_cic['mjd_seconds'] / 86400\n",
    "display(df_aem_cic)"
   ]
  },
  {
   "cell_type": "code",
   "execution_count": null,
   "metadata": {},
   "outputs": [],
   "source": [
    "aem = Aem(originator, standard='CIC')\n",
    "segments = []\n",
    "segments += aem.format_segment(df_aem_cic, meta_mandat_aem_cic, meta_opt_aem_cic)\n",
    "aem.write_file(segments, 'Mars_AEM_EME2000.txt')"
   ]
  },
  {
   "cell_type": "code",
   "execution_count": null,
   "metadata": {},
   "outputs": [],
   "source": []
  }
 ],
 "metadata": {
  "kernelspec": {
   "display_name": "Python 3",
   "language": "python",
   "name": "python3"
  },
  "language_info": {
   "codemirror_mode": {
    "name": "ipython",
    "version": 3
   },
   "file_extension": ".py",
   "mimetype": "text/x-python",
   "name": "python",
   "nbconvert_exporter": "python",
   "pygments_lexer": "ipython3",
   "version": "3.7.6"
  }
 },
 "nbformat": 4,
 "nbformat_minor": 4
}
